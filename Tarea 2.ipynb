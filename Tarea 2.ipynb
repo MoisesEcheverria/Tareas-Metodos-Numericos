{
 "cells": [
  {
   "cell_type": "markdown",
   "id": "6a1abf71-d277-40f8-b081-e81bc5f54230",
   "metadata": {},
   "source": [
    " # Tarea 2.3 #\n",
    " ### Moisés Echeverría ###\n",
    " #### FIS1344 - Métodos númericos y probabilidades ####"
   ]
  },
  {
   "cell_type": "markdown",
   "id": "fc7fe8ad-897f-4457-9438-ccd8d9bba202",
   "metadata": {},
   "source": [
    "A partir del siguiente array, representando una matriz, escriba un código produzca un nuevo sólo con los elementos de la segunda y tercera columna de cada fila, sin usar ciclos for ni while."
   ]
  },
  {
   "cell_type": "code",
   "execution_count": 31,
   "id": "c1b1e1a9-087d-446a-9dac-0f606d06a9d2",
   "metadata": {},
   "outputs": [
    {
     "name": "stdout",
     "output_type": "stream",
     "text": [
      "Matriz original\n",
      "[[1 1 1 1 3]\n",
      " [1 1 1 1 5]\n",
      " [2 3 4 5 6]\n",
      " [2 2 2 2 8]\n",
      " [1 2 3 4 5]]\n",
      "\n",
      "Matriz deseada con floats\n",
      "[[1. 1.]\n",
      " [1. 1.]\n",
      " [3. 4.]\n",
      " [2. 2.]\n",
      " [2. 3.]]\n",
      "\n",
      "Matriz deseada con ints\n",
      "[[1 1]\n",
      " [1 1]\n",
      " [3 4]\n",
      " [2 2]\n",
      " [2 3]]\n"
     ]
    }
   ],
   "source": [
    "import numpy as np                 #Importamos las librerias que vamos a utilizar\n",
    "mi_array=np.array([[1,1,1,1,3],[1,1,1,1,5],[2,3,4,5,6],[2,2,2,2,8],[1,2,3,4,5]]) #Definimos el array que nos entregan en el problema\n",
    "\n",
    "tamaño=np.zeros([5,2])             #Generamos una matriz llena de ceros del tamaño del arreglo que deseamos, en nuestro caso 5 filas y 2 columnas\n",
    "\n",
    "Matriz_f=mi_array[0:,[1,2]]+tamaño #Definimos la matriz que necesitamos para resolver el problema sumando las dos columnas de nuestra matriz original,\n",
    "                            #con la matriz llena de ceros,esto nos arrojara como resultado la matriz que deseamos con los números en forma de float\n",
    "\n",
    "Matriz_i=mi_array[0:,[1,2]]     #Tambien podemos hacerlo de una manera más simple tomando las columnas que necesitamos usando los parametros de    \n",
    "                                #los array introduciendolos dentro de una nueva variable, en este caso los números tendran forma de int\n",
    "                                #tambien podriamos definir una función utilizando este proceso que es un poquito más complejo    \n",
    "                                #pero no sé si es lo que realmente pide la tarea.\n",
    "print(\"Matriz original\")  \n",
    "print(mi_array)\n",
    "print()\n",
    "print(\"Matriz deseada con floats\")\n",
    "print(Matriz_f)\n",
    "print()\n",
    "print(\"Matriz deseada con ints\")\n",
    "print(Matriz_i)"
   ]
  },
  {
   "cell_type": "code",
   "execution_count": null,
   "id": "cfee3cca-c352-4804-8be7-307a42060136",
   "metadata": {},
   "outputs": [],
   "source": []
  }
 ],
 "metadata": {
  "kernelspec": {
   "display_name": "Python 3",
   "language": "python",
   "name": "python3"
  },
  "language_info": {
   "codemirror_mode": {
    "name": "ipython",
    "version": 3
   },
   "file_extension": ".py",
   "mimetype": "text/x-python",
   "name": "python",
   "nbconvert_exporter": "python",
   "pygments_lexer": "ipython3",
   "version": "3.8.8"
  }
 },
 "nbformat": 4,
 "nbformat_minor": 5
}
