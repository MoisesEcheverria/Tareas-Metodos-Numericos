{
 "cells": [
  {
   "cell_type": "markdown",
   "id": "8c126882-e21c-402a-8e28-1353758f304a",
   "metadata": {},
   "source": [
    " # Tarea 6.5 #\n",
    " ### Moisés Echeverría ###\n",
    " #### FIS1344 - Métodos númericos y probabilidades ####"
   ]
  },
  {
   "cell_type": "markdown",
   "id": "561c9c60-470e-4d47-8371-1278820a1911",
   "metadata": {},
   "source": [
    "Veinte números aleatorios independientes se sacan de una distribución uniforme entre 0 y 1. \n",
    "\n",
    "* Use monte carlo para estimar la probabilidad de que la suma de los números esté entre 9 y 10. Ídem entre 15 y 16.\n",
    "\n",
    "* Use el teorema del límite central y compare con la distribución gaussiana. (Se dice que la gaussiana no describe eventos en las colas.)\n",
    "\n",
    "Recuerde estimar el error de la simulación, así como cuantificar con errores relativos la diferencia entre la simulación y la gaussiana.\n",
    "\n",
    "Pista:\n",
    "\n",
    "$$\n",
    "\\int_0^a dx\\,e^{-x^2} = \\frac{\\sqrt{\\pi}}{2}\\text{erf}(a)\n",
    "$$\n",
    "\n",
    "donde $\\text(a)$ es la función de error y en python se puede llamar usando scipy.special.erf del modulo scipy."
   ]
  },
  {
   "cell_type": "code",
   "execution_count": 140,
   "id": "49f41d47-8089-415b-82b1-3acf2019e0c8",
   "metadata": {},
   "outputs": [],
   "source": [
    "import numpy as np #importamos librerias que podriamos utilizar\n",
    "import random\n",
    "import matplotlib.pyplot as plt\n",
    "from scipy import special"
   ]
  },
  {
   "cell_type": "code",
   "execution_count": 225,
   "id": "8637abaf-8f49-4c70-a7f5-21c30a56993b",
   "metadata": {},
   "outputs": [],
   "source": [
    "n=100000       #Creamos un ciclo que nos genere la suma de 20 terminos entre 0 y 1 repetidas veces\n",
    "Casos_totales=np.array([sum(np.random.uniform(0,1,20)) for i in range(n)])\n"
   ]
  },
  {
   "cell_type": "code",
   "execution_count": 101,
   "id": "3539077d-be3f-4371-99e6-dd23057a3333",
   "metadata": {},
   "outputs": [],
   "source": [
    "def entre_9_y_10(evento):\n",
    "    \"\"\"Función que nos entrega los valores que se encuentran entre\n",
    "    9 y 10, añadiendolos a una lista para trabajar con ellos\"\"\"\n",
    "    Datos=[]\n",
    "    [Datos.append(n) for n in evento if n>9 and n<10] #ciclo para saber si el número se encuentra entre 9 y 10\n",
    "    return Datos\n",
    "    "
   ]
  },
  {
   "cell_type": "code",
   "execution_count": 102,
   "id": "005ce99d-bf25-46b9-84a9-8c76658a0d04",
   "metadata": {},
   "outputs": [],
   "source": [
    "def entre_15_y_16(evento):\n",
    "     \"\"\"Función que nos entrega los valores que se encuentran entre\n",
    "    15 y 16, añadiendolos a una lista para trabajar con ellos\"\"\"\n",
    "    Datos1=[]\n",
    "    [Datos1.append(n) for n in evento if n>15 and n<16] #ciclo para saber si el número se encuentra entre 15 y 16\n",
    "    return Datos1"
   ]
  },
  {
   "cell_type": "code",
   "execution_count": 164,
   "id": "500e488d-2fa8-4370-b16c-44439728f30f",
   "metadata": {},
   "outputs": [],
   "source": [
    "def Gauss(x,me,std):\n",
    "    \"\"\"Función que calcula la Gaussiana que vimos en clases\"\"\"\n",
    "    return np.exp((-(x-me)**2)/(2*std**2))/(np.sqrt(2*np.pi)*std)"
   ]
  },
  {
   "cell_type": "code",
   "execution_count": 206,
   "id": "b637ec44-f468-4d39-a789-80bbf5325a8d",
   "metadata": {},
   "outputs": [
    {
     "name": "stdout",
     "output_type": "stream",
     "text": [
      "0.27925\n",
      "5e-05\n"
     ]
    }
   ],
   "source": [
    "D_9_10=len(entre_9_y_10(Casos_totales))    \n",
    "D_15_16=len(entre_15_y_16(Casos_totales)) #Con los datos obtenidos de las funciones podemos calcular\n",
    "Prob_9y10=Datos_9_10/len(Casos_totales)   #la probabilidad de obtener numeros entre 9 y 10\n",
    "print(Prob_9y10)                          #y los números entre 15 y 16\n",
    "Prob_15_16=Datos_15_16/len(Casos_totales)\n",
    "print(Prob_15_16)"
   ]
  },
  {
   "cell_type": "markdown",
   "id": "ea99baae-77d5-4395-a561-647b84f060e2",
   "metadata": {},
   "source": [
    "Sin embargo este no es necesariamente el valor real de nuestra probabilidad, por lo que, \n",
    "para acercarnos\n",
    "más a este valor real utilizaremos simulaciones de Montecarlo"
   ]
  },
  {
   "cell_type": "code",
   "execution_count": 144,
   "id": "779b085d-5843-4005-96d1-f1fd453a7e35",
   "metadata": {},
   "outputs": [],
   "source": [
    "rep=100000        #repeticiones de la suma\n",
    "simulaciones=10   #número de veces que se repetira la simulación\n",
    "\n",
    "Probabilidad_9_10=np.zeros(simulaciones)  #Una matriz vacia donde entraran las probabilidades de obtener entre 9 y 10\n",
    "Probabilidad_15_16=np.zeros(simulaciones) #Una matriz vacia donde entraran las probabilidades de obtener entre 15 y 16\n",
    "\n",
    "for n in range(simulaciones):            #un ciclo para repetir la simulación varias veces\n",
    "    Casos={sum(np.random.uniform(0,1,20)) for i in range(rep)} #todos los valores de las sumas de 20 terminos entre 0 y 1\n",
    "    Datos_9_10=len(entre_9_y_10(Casos))              \n",
    "    Probabilidad_9_10[n]=Datos_9_10/len(Casos)     #calculamos las probabilidades de ambos casos\n",
    "    Datos_15_16=len(entre_15_y_16(Casos))          #entre 9 y 10, y entre 15 y 16\n",
    "    Probabilidad_15_16[n]=Datos_15_16/len(Casos)"
   ]
  },
  {
   "cell_type": "code",
   "execution_count": 268,
   "id": "0fa697cc-2b61-440e-9345-623db3fe1598",
   "metadata": {},
   "outputs": [],
   "source": [
    "Promedio_9_10=round(Probabilidad_9_10.mean(),5)   #Calculamos los promedios de los datos obtenidos\n",
    "Desv_est_9_10=round(Probabilidad_9_10.std(),5)    \n",
    "Promedio_15_16=round(Probabilidad_15_16.mean(),5) #Calculamos las desviaciones estandar de estos datos\n",
    "Desv_est_15_16=round(Probabilidad_15_16.std(),5)\n",
    "u=Desv_est_9_10/Promedio_9_10\n",
    "o=Desv_est_15_16/Promedio_15_16"
   ]
  },
  {
   "cell_type": "code",
   "execution_count": 265,
   "id": "c20839a9-c21c-42fd-baee-a697f1eed69e",
   "metadata": {},
   "outputs": [
    {
     "name": "stdout",
     "output_type": "stream",
     "text": [
      "La probabilidad de obtener un número entre 9 y 10 al sumar 20 números aleatorios entre 0 y 1 es de 0.27982\n",
      "La Desviación estandar de la medición entre 9 y 10 es de 0.00139\n",
      "La probabilidad de obtener un número entre 15 y 16 al sumar 20 números aleatorios entre 0 y 1 es de 3e-05\n",
      "La Desviación estandar de la medición entre 15 y 16 es de 1e-05\n"
     ]
    }
   ],
   "source": [
    "print(f'La probabilidad de obtener un número entre 9 y 10 al sumar 20 números aleatorios entre 0 y 1 es de',Promedio_9_10)\n",
    "print(f'La Desviación estandar de la medición entre 9 y 10 es de',Desv_est_9_10)\n",
    "print(f'La probabilidad de obtener un número entre 15 y 16 al sumar 20 números aleatorios entre 0 y 1 es de',Promedio_15_16)\n",
    "print(f'La Desviación estandar de la medición entre 15 y 16 es de',Desv_est_15_16)"
   ]
  },
  {
   "cell_type": "code",
   "execution_count": 276,
   "id": "f032dbbd-4f46-4cb9-ac50-09d1c6a7d935",
   "metadata": {},
   "outputs": [],
   "source": [
    "Media=Casos_totales.mean()   #Calculamos la media de los datos que definimos al principio para poder hacer la Gausseana\n",
    "Desv_est=Casos_totales.std() #Calculamos la desviación estandar para la Gausseana\n",
    "e=Desv_est/Media"
   ]
  },
  {
   "cell_type": "code",
   "execution_count": 261,
   "id": "1502a7c4-d970-4b4f-bb4d-bdf92c0e43c3",
   "metadata": {},
   "outputs": [
    {
     "data": {
      "text/plain": [
       "Text(0.5, 1.0, 'Distribución de la suma de 20 numeros aleatorios entre 0 y 1')"
      ]
     },
     "execution_count": 261,
     "metadata": {},
     "output_type": "execute_result"
    },
    {
     "data": {
      "image/png": "[encoded data removed]",
      "text/plain": [
       "<Figure size 1080x360 with 2 Axes>"
      ]
     },
     "metadata": {
      "needs_background": "light"
     },
     "output_type": "display_data"
    }
   ],
   "source": [
    "x=np.linspace(0,20,100000)\n",
    "fig,ax=plt.subplots(1,2,figsize=(15,5))\n",
    "\n",
    "ax[0].plot(x,Gauss(x,Media,Desv_est),color=\"firebrick\") #Graficamos ambos para poder compararlos\n",
    "ax[0].set_xlabel(\"Valor de la suma\")\n",
    "ax[0].set_ylabel(\"Probabilidad\")\n",
    "ax[0].set_title(\"Distribución de los datos calculados\")\n",
    "\n",
    "ax[1].hist(Casos_totales,bins=100,color=\"salmon\")\n",
    "ax[1].set_xlabel(\"Valor de la suma\")\n",
    "ax[1].set_ylabel(\"Cantidad de apariciones\")\n",
    "ax[1].set_title(\"Distribución de la suma de 20 numeros aleatorios entre 0 y 1\")\n"
   ]
  },
  {
   "cell_type": "markdown",
   "id": "ad9d1a80-92d2-4c5f-bcdc-76905b255980",
   "metadata": {},
   "source": [
    "Podemos ver que ambas distribuciones son muy parecidas por lo que el calculo de la Gausseana funciono"
   ]
  },
  {
   "cell_type": "code",
   "execution_count": 275,
   "id": "88c4d0a2-0e38-4220-9329-f086beac3afc",
   "metadata": {},
   "outputs": [
    {
     "name": "stdout",
     "output_type": "stream",
     "text": [
      "El error que obtenemos de la formula es de 0.04909849540064496\n"
     ]
    }
   ],
   "source": [
    "Error=(np.sqrt(np.pi)/2*special.erf(Gauss(x,Media,Desv_est))) #Calculamos el error utilizando lo obtenido\n",
    "#Este nos arroja un array por lo tanto hacemos el promedio de estos valores para obtener el valor general del error\n",
    "Error1=Error.mean()\n",
    "print(f'El error que obtenemos de la formula es de',Error1)  "
   ]
  },
  {
   "cell_type": "markdown",
   "id": "36c86729",
   "metadata": {},
   "source": [
    "# Calificación: 6.5"
   ]
  },
  {
   "cell_type": "markdown",
   "id": "aa18d028",
   "metadata": {},
   "source": [
    "Faltó comparar las probabilidades que se pedían entre la aproximación gaussiana y el monte carlo. Esto es importante porque mostraría que la gaussiana no es una buena aproximación cuando las probabilidades son muy pequeñas."
   ]
  },
  {
   "cell_type": "markdown",
   "id": "af93f70f",
   "metadata": {},
   "source": []
  }
 ],
 "metadata": {
  "kernelspec": {
   "display_name": "Python 3",
   "language": "python",
   "name": "python3"
  },
  "language_info": {
   "codemirror_mode": {
    "name": "ipython",
    "version": 3
   },
   "file_extension": ".py",
   "mimetype": "text/x-python",
   "name": "python",
   "nbconvert_exporter": "python",
   "pygments_lexer": "ipython3",
   "version": "3.10.6 (main, Nov  2 2022, 18:53:38) [GCC 11.3.0]"
  },
  "vscode": {
   "interpreter": {
    "hash": "916dbcbb3f70747c44a77c7bcd40155683ae19c65e1c03b4aa3499c5328201f1"
   }
  }
 },
 "nbformat": 4,
 "nbformat_minor": 5
}
