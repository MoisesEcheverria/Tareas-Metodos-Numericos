{
 "cells": [
  {
   "cell_type": "markdown",
   "id": "20c9a47c-4039-4fb1-a1b3-522037195c9b",
   "metadata": {},
   "source": [
    " # Tarea 1.4 #\n",
    " ### Moisés Echeverría ###\n",
    " #### FIS1344 - Métodos númericos y probabilidades ####"
   ]
  },
  {
   "cell_type": "markdown",
   "id": "c4108add-79d9-4228-bd52-3d09f84a6374",
   "metadata": {},
   "source": [
    "Usar Python para calcular:\n",
    "$$\n",
    "\\frac{2x}{3(y+x)}\n",
    "$$\n",
    "Donde $x$=1 y $y$=2"
   ]
  },
  {
   "cell_type": "code",
   "execution_count": 17,
   "id": "4cc8a103-291d-41a7-9770-d6635b2f1207",
   "metadata": {},
   "outputs": [
    {
     "data": {
      "text/plain": [
       "0.2222222222222222"
      ]
     },
     "execution_count": 17,
     "metadata": {},
     "output_type": "execute_result"
    }
   ],
   "source": [
    "x=1                           #Definimos la primera variable entregada en el problema\n",
    "y=2                           #Definimos la segunda variable entregada en el problema\n",
    "z=2*x/(3*(y+x))               #Una vez definidas las variables, armamos nuestra ecuación con estas para que se ejecute\n",
    "z                             #Imprimos el resultado de nuestra ecuacion"
   ]
  }
 ],
 "metadata": {
  "kernelspec": {
   "display_name": "Python 3",
   "language": "python",
   "name": "python3"
  },
  "language_info": {
   "codemirror_mode": {
    "name": "ipython",
    "version": 3
   },
   "file_extension": ".py",
   "mimetype": "text/x-python",
   "name": "python",
   "nbconvert_exporter": "python",
   "pygments_lexer": "ipython3",
   "version": "3.8.8"
  }
 },
 "nbformat": 4,
 "nbformat_minor": 5
}
