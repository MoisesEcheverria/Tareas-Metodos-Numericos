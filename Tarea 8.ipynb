{
 "cells": [
  {
   "cell_type": "markdown",
   "id": "d4a554a0-479d-4d74-bf65-026180ef5e66",
   "metadata": {},
   "source": [
    " # Tarea 8.6 #\n",
    " ### Moisés Echeverría ###\n",
    " #### FIS1344 - Métodos númericos y probabilidades ####"
   ]
  },
  {
   "cell_type": "markdown",
   "id": "7366484b-197b-4177-9d58-613a554c0998",
   "metadata": {},
   "source": [
    "\"Los siguientes datos corresponden al cálculo numérico de una cierta propiedad estadística de la distribución de materia en el universo (el espectro de potencias) $P(k)$ en función del modo de Fourier $k$. Use la derivada numérica para encontrar $d\\ln P/d\\ln k$ en cada punto. Para estimar el error cometido en esta derivada numérica compare el resultado de la fórmula a tres puntos con el resultado de la fórmula a cinco puntos. Será necesario usar las fórmulas a tres y cinco puntos en los extremos que se encuentran en este mismo notebook.\""
   ]
  },
  {
   "cell_type": "code",
   "execution_count": 2,
   "id": "520e0cfa-cdbf-4bf9-bf6b-f1ffc6c3ed4f",
   "metadata": {},
   "outputs": [],
   "source": [
    "datos = np.array([       [5.531683013105e-04,       1.070304113861e+12], \n",
    "       [5.910227121702e-04,       1.139622191891e+12], \n",
    "       [6.315688849627e-04,       1.213481232452e+12], \n",
    "       [6.750065137883e-04,       1.292169597309e+12], \n",
    "       [7.215301959429e-04,       1.375954296780e+12], \n",
    "       [7.713235180257e-04,       1.465069697719e+12], \n",
    "       [8.245525173319e-04,       1.559705507566e+12], \n",
    "       [8.813589235833e-04,       1.659994890361e+12], \n",
    "       [9.418537183337e-04,       1.766003776663e+12], \n",
    "       [1.006111625261e-03,       1.877722471320e+12], \n",
    "       [1.074167130425e-03,       1.995060685935e+12], \n",
    "       [1.146012510269e-03,       2.117846703996e+12], \n",
    "       [1.221598126720e-03,       2.245831037960e+12], \n",
    "       [1.300834972303e-03,       2.378694410099e+12], \n",
    "       [1.383599172303e-03,       2.516052095865e+12], \n",
    "       [1.469737934874e-03,       2.657475892684e+12], \n",
    "       [1.559076324033e-03,       2.802524407596e+12], \n",
    "       [1.651424225675e-03,       2.950729179407e+12], \n",
    "       [1.746582964833e-03,       3.101618970269e+12], \n",
    "       [1.844351177716e-03,       3.254730780491e+12], \n",
    "       [1.944529704896e-03,       3.409618695392e+12], \n",
    "       [2.046925420592e-03,       3.565860320889e+12], \n",
    "       [2.151354028418e-03,       3.723061333248e+12], \n",
    "       [2.257641930146e-03,       3.880858018481e+12] ])"
   ]
  },
  {
   "cell_type": "code",
   "execution_count": 42,
   "id": "3c95a5a8-553e-48a8-9f6b-7a6677f889a8",
   "metadata": {},
   "outputs": [],
   "source": [
    "import numpy as np #importamos lo necesario\n",
    "import matplotlib.pyplot as plt"
   ]
  },
  {
   "cell_type": "code",
   "execution_count": 43,
   "id": "c1816e2a-7235-45c1-82d0-cc08eb6f0ed3",
   "metadata": {},
   "outputs": [],
   "source": [
    "def deriv3_datos(fxo, fx2, h):  \n",
    "    return (fx2 - fxo)/(2*h)\n",
    "\n",
    "def deriv3_borde_datos(fxo, fx1, fx2, h):      #la funcion de la derivada numerica del profe\n",
    "    return (-3*fxo + 4*fx1 - fx2)/(2*h)\n",
    "\n",
    "def deriv_datos(fx, h):\n",
    "    \n",
    "    n = len(fx)\n",
    "    deriv = np.zeros(n)\n",
    "    for i in range(n):\n",
    "        if i == 0:\n",
    "            deriv[i] = deriv3_borde_datos(fx[0], fx[1], fx[2], h)\n",
    "        elif i == n - 1:\n",
    "            deriv[i] = deriv3_borde_datos(fx[n-1], fx[n-2], fx[n-3], -h)\n",
    "        else:\n",
    "            deriv[i] = deriv3_datos(fx[i-1], fx[i+1], h)\n",
    "    return deriv\n",
    "    return (fx2 - fxo)/(2*h)"
   ]
  },
  {
   "cell_type": "code",
   "execution_count": 6,
   "id": "9cf66330-f81a-4e3d-9c5d-75f32b699cd4",
   "metadata": {},
   "outputs": [],
   "source": [
    "Datos_p=datos[:,0] #estos datos son los de P debido a que es una probabilidad y estan entre 0 y 1\n",
    "Datos_k=datos[:,1] #y estos son los datos de k por descarte"
   ]
  },
  {
   "cell_type": "code",
   "execution_count": 11,
   "id": "6f2687c7-0bac-4639-b7f3-2a298551f47d",
   "metadata": {},
   "outputs": [],
   "source": [
    "Derivada_p=(1/Datos_p)*(deriv_datos(Datos_p,h)) #derivamos el ln y usamos la derivada de los datos\n",
    "Derivada_k=(1/Datos_k)*(deriv_datos(Datos_k,h))"
   ]
  },
  {
   "cell_type": "code",
   "execution_count": 27,
   "id": "ba2a861a-7108-47e3-9cb8-bb828a955f9e",
   "metadata": {},
   "outputs": [],
   "source": [
    "Derivada_completa=((Derivada_p*Datos_k)-(Derivada_k*Datos_p))/(Datos_k**2)#Derivada de la division"
   ]
  },
  {
   "cell_type": "code",
   "execution_count": 29,
   "id": "6429d76a-8c72-4b93-bfde-ef62db946836",
   "metadata": {},
   "outputs": [
    {
     "data": {
      "text/plain": [
       "[<matplotlib.lines.Line2D at 0x1e388c331c0>]"
      ]
     },
     "execution_count": 29,
     "metadata": {},
     "output_type": "execute_result"
    },
    {
     "data": {
      "image/png": "[encoded data removed]",
      "text/plain": [
       "<Figure size 432x288 with 1 Axes>"
      ]
     },
     "metadata": {
      "needs_background": "light"
     },
     "output_type": "display_data"
    }
   ],
   "source": [
    "plt.plot(Derivada_completa)"
   ]
  },
  {
   "cell_type": "code",
   "execution_count": 12,
   "id": "2fb8da67-61b2-42d5-94ed-091fce9078b4",
   "metadata": {},
   "outputs": [
    {
     "data": {
      "text/plain": [
       "[<matplotlib.lines.Line2D at 0x1e388b58340>]"
      ]
     },
     "execution_count": 12,
     "metadata": {},
     "output_type": "execute_result"
    },
    {
     "data": {
      "image/png": "[encoded data removed]",
      "text/plain": [
       "<Figure size 432x288 with 1 Axes>"
      ]
     },
     "metadata": {
      "needs_background": "light"
     },
     "output_type": "display_data"
    }
   ],
   "source": [
    "plt.plot(Derivada_p/Derivada_k)"
   ]
  },
  {
   "cell_type": "code",
   "execution_count": 17,
   "id": "355005f1-7339-43b6-a994-775175eb0dd9",
   "metadata": {},
   "outputs": [
    {
     "data": {
      "text/plain": [
       "[<matplotlib.lines.Line2D at 0x1e3894c4970>]"
      ]
     },
     "execution_count": 17,
     "metadata": {},
     "output_type": "execute_result"
    },
    {
     "data": {
      "image/png": "[encoded data removed]",
      "text/plain": [
       "<Figure size 432x288 with 1 Axes>"
      ]
     },
     "metadata": {
      "needs_background": "light"
     },
     "output_type": "display_data"
    }
   ],
   "source": [
    "num=24\n",
    "h=4/num\n",
    "plt.plot((1/deriv_datos(Datos_p,h))/(1/deriv_datos(Datos_k,h)))"
   ]
  },
  {
   "cell_type": "code",
   "execution_count": 48,
   "id": "1e5a1d39-b73e-4559-80ab-b03aba837539",
   "metadata": {},
   "outputs": [],
   "source": [
    "def deriv5_datos(fxo,fx1,fx2,fx3,h):\n",
    "    return (fxo-8*fx1+8*fx2-fx3)/(12*h)\n",
    "\n",
    "def deriv5_borde_datos(fxo,fx1,fx2,fx3,fx4,h):\n",
    "    return (-25*fxo+48*fx1-36*fx2+16*fx3-3*fx4)/(12*h)\n",
    "    \n",
    "def deriv_datos5(fx,h):\n",
    "    \n",
    "    n = len(fx)\n",
    "    deriv = np.zeros(n)\n",
    "    for i in range(n):\n",
    "        if i == 0:\n",
    "            deriv[i] = deriv5_borde_datos(fx[0], fx[1], fx[2],fx[3],h)\n",
    "        elif i == n - 1:\n",
    "            deriv[i] = deriv5_borde_datos(fx[n-1], fx[n-2], fx[n-3],fx[n-4],-h)\n",
    "        else:\n",
    "            deriv[i] = deriv5_datos(fx[i-1], fx[i+1], h)\n",
    "    return deriv\n",
    "    return (fx2 - fxo)/(12*h)"
   ]
  },
  {
   "cell_type": "code",
   "execution_count": 49,
   "id": "c050b2c7-d65a-4863-b81d-01dfb00b6f22",
   "metadata": {},
   "outputs": [
    {
     "ename": "TypeError",
     "evalue": "deriv5_borde_datos() missing 1 required positional argument: 'h'",
     "output_type": "error",
     "traceback": [
      "\u001b[1;31m---------------------------------------------------------------------------\u001b[0m",
      "\u001b[1;31mTypeError\u001b[0m                                 Traceback (most recent call last)",
      "\u001b[1;32m<ipython-input-49-f05b9f79ad8d>\u001b[0m in \u001b[0;36m<module>\u001b[1;34m\u001b[0m\n\u001b[1;32m----> 1\u001b[1;33m \u001b[0mDerivada_p5\u001b[0m\u001b[1;33m=\u001b[0m\u001b[1;33m(\u001b[0m\u001b[1;36m1\u001b[0m\u001b[1;33m/\u001b[0m\u001b[0mDatos_p\u001b[0m\u001b[1;33m)\u001b[0m\u001b[1;33m*\u001b[0m\u001b[1;33m(\u001b[0m\u001b[0mderiv_datos5\u001b[0m\u001b[1;33m(\u001b[0m\u001b[0mDatos_p\u001b[0m\u001b[1;33m,\u001b[0m\u001b[0mh\u001b[0m\u001b[1;33m)\u001b[0m\u001b[1;33m)\u001b[0m\u001b[1;33m\u001b[0m\u001b[1;33m\u001b[0m\u001b[0m\n\u001b[0m\u001b[0;32m      2\u001b[0m \u001b[0mDerivada_k5\u001b[0m\u001b[1;33m=\u001b[0m\u001b[1;33m(\u001b[0m\u001b[1;36m1\u001b[0m\u001b[1;33m/\u001b[0m\u001b[0mDatos_k\u001b[0m\u001b[1;33m)\u001b[0m\u001b[1;33m*\u001b[0m\u001b[1;33m(\u001b[0m\u001b[0mderiv_datos5\u001b[0m\u001b[1;33m(\u001b[0m\u001b[0mDatos_k\u001b[0m\u001b[1;33m,\u001b[0m\u001b[0mh\u001b[0m\u001b[1;33m)\u001b[0m\u001b[1;33m)\u001b[0m\u001b[1;33m\u001b[0m\u001b[1;33m\u001b[0m\u001b[0m\n",
      "\u001b[1;32m<ipython-input-48-4c6fc9c1a434>\u001b[0m in \u001b[0;36mderiv_datos5\u001b[1;34m(fx, h)\u001b[0m\n\u001b[0;32m     11\u001b[0m     \u001b[1;32mfor\u001b[0m \u001b[0mi\u001b[0m \u001b[1;32min\u001b[0m \u001b[0mrange\u001b[0m\u001b[1;33m(\u001b[0m\u001b[0mn\u001b[0m\u001b[1;33m)\u001b[0m\u001b[1;33m:\u001b[0m\u001b[1;33m\u001b[0m\u001b[1;33m\u001b[0m\u001b[0m\n\u001b[0;32m     12\u001b[0m         \u001b[1;32mif\u001b[0m \u001b[0mi\u001b[0m \u001b[1;33m==\u001b[0m \u001b[1;36m0\u001b[0m\u001b[1;33m:\u001b[0m\u001b[1;33m\u001b[0m\u001b[1;33m\u001b[0m\u001b[0m\n\u001b[1;32m---> 13\u001b[1;33m             \u001b[0mderiv\u001b[0m\u001b[1;33m[\u001b[0m\u001b[0mi\u001b[0m\u001b[1;33m]\u001b[0m \u001b[1;33m=\u001b[0m \u001b[0mderiv5_borde_datos\u001b[0m\u001b[1;33m(\u001b[0m\u001b[0mfx\u001b[0m\u001b[1;33m[\u001b[0m\u001b[1;36m0\u001b[0m\u001b[1;33m]\u001b[0m\u001b[1;33m,\u001b[0m \u001b[0mfx\u001b[0m\u001b[1;33m[\u001b[0m\u001b[1;36m1\u001b[0m\u001b[1;33m]\u001b[0m\u001b[1;33m,\u001b[0m \u001b[0mfx\u001b[0m\u001b[1;33m[\u001b[0m\u001b[1;36m2\u001b[0m\u001b[1;33m]\u001b[0m\u001b[1;33m,\u001b[0m\u001b[0mfx\u001b[0m\u001b[1;33m[\u001b[0m\u001b[1;36m3\u001b[0m\u001b[1;33m]\u001b[0m\u001b[1;33m,\u001b[0m\u001b[0mh\u001b[0m\u001b[1;33m)\u001b[0m\u001b[1;33m\u001b[0m\u001b[1;33m\u001b[0m\u001b[0m\n\u001b[0m\u001b[0;32m     14\u001b[0m         \u001b[1;32melif\u001b[0m \u001b[0mi\u001b[0m \u001b[1;33m==\u001b[0m \u001b[0mn\u001b[0m \u001b[1;33m-\u001b[0m \u001b[1;36m1\u001b[0m\u001b[1;33m:\u001b[0m\u001b[1;33m\u001b[0m\u001b[1;33m\u001b[0m\u001b[0m\n\u001b[0;32m     15\u001b[0m             \u001b[0mderiv\u001b[0m\u001b[1;33m[\u001b[0m\u001b[0mi\u001b[0m\u001b[1;33m]\u001b[0m \u001b[1;33m=\u001b[0m \u001b[0mderiv5_borde_datos\u001b[0m\u001b[1;33m(\u001b[0m\u001b[0mfx\u001b[0m\u001b[1;33m[\u001b[0m\u001b[0mn\u001b[0m\u001b[1;33m-\u001b[0m\u001b[1;36m1\u001b[0m\u001b[1;33m]\u001b[0m\u001b[1;33m,\u001b[0m \u001b[0mfx\u001b[0m\u001b[1;33m[\u001b[0m\u001b[0mn\u001b[0m\u001b[1;33m-\u001b[0m\u001b[1;36m2\u001b[0m\u001b[1;33m]\u001b[0m\u001b[1;33m,\u001b[0m \u001b[0mfx\u001b[0m\u001b[1;33m[\u001b[0m\u001b[0mn\u001b[0m\u001b[1;33m-\u001b[0m\u001b[1;36m3\u001b[0m\u001b[1;33m]\u001b[0m\u001b[1;33m,\u001b[0m\u001b[0mfx\u001b[0m\u001b[1;33m[\u001b[0m\u001b[0mn\u001b[0m\u001b[1;33m-\u001b[0m\u001b[1;36m4\u001b[0m\u001b[1;33m]\u001b[0m\u001b[1;33m,\u001b[0m\u001b[1;33m-\u001b[0m\u001b[0mh\u001b[0m\u001b[1;33m)\u001b[0m\u001b[1;33m\u001b[0m\u001b[1;33m\u001b[0m\u001b[0m\n",
      "\u001b[1;31mTypeError\u001b[0m: deriv5_borde_datos() missing 1 required positional argument: 'h'"
     ]
    }
   ],
   "source": [
    "Derivada_p5=(1/Datos_p)*(deriv_datos5(Datos_p,h))\n",
    "Derivada_k5=(1/Datos_k)*(deriv_datos5(Datos_k,h))"
   ]
  },
  {
   "cell_type": "code",
   "execution_count": 50,
   "id": "820d5933-862c-44c4-a6f6-4ef905b91ce6",
   "metadata": {},
   "outputs": [
    {
     "ename": "TypeError",
     "evalue": "deriv5_borde_datos() missing 1 required positional argument: 'h'",
     "output_type": "error",
     "traceback": [
      "\u001b[1;31m---------------------------------------------------------------------------\u001b[0m",
      "\u001b[1;31mTypeError\u001b[0m                                 Traceback (most recent call last)",
      "\u001b[1;32m<ipython-input-50-44d88683f8f3>\u001b[0m in \u001b[0;36m<module>\u001b[1;34m\u001b[0m\n\u001b[1;32m----> 1\u001b[1;33m \u001b[0mderiv_datos5\u001b[0m\u001b[1;33m(\u001b[0m\u001b[0mDatos_p\u001b[0m\u001b[1;33m,\u001b[0m\u001b[0mh\u001b[0m\u001b[1;33m)\u001b[0m\u001b[1;33m\u001b[0m\u001b[1;33m\u001b[0m\u001b[0m\n\u001b[0m",
      "\u001b[1;32m<ipython-input-48-4c6fc9c1a434>\u001b[0m in \u001b[0;36mderiv_datos5\u001b[1;34m(fx, h)\u001b[0m\n\u001b[0;32m     11\u001b[0m     \u001b[1;32mfor\u001b[0m \u001b[0mi\u001b[0m \u001b[1;32min\u001b[0m \u001b[0mrange\u001b[0m\u001b[1;33m(\u001b[0m\u001b[0mn\u001b[0m\u001b[1;33m)\u001b[0m\u001b[1;33m:\u001b[0m\u001b[1;33m\u001b[0m\u001b[1;33m\u001b[0m\u001b[0m\n\u001b[0;32m     12\u001b[0m         \u001b[1;32mif\u001b[0m \u001b[0mi\u001b[0m \u001b[1;33m==\u001b[0m \u001b[1;36m0\u001b[0m\u001b[1;33m:\u001b[0m\u001b[1;33m\u001b[0m\u001b[1;33m\u001b[0m\u001b[0m\n\u001b[1;32m---> 13\u001b[1;33m             \u001b[0mderiv\u001b[0m\u001b[1;33m[\u001b[0m\u001b[0mi\u001b[0m\u001b[1;33m]\u001b[0m \u001b[1;33m=\u001b[0m \u001b[0mderiv5_borde_datos\u001b[0m\u001b[1;33m(\u001b[0m\u001b[0mfx\u001b[0m\u001b[1;33m[\u001b[0m\u001b[1;36m0\u001b[0m\u001b[1;33m]\u001b[0m\u001b[1;33m,\u001b[0m \u001b[0mfx\u001b[0m\u001b[1;33m[\u001b[0m\u001b[1;36m1\u001b[0m\u001b[1;33m]\u001b[0m\u001b[1;33m,\u001b[0m \u001b[0mfx\u001b[0m\u001b[1;33m[\u001b[0m\u001b[1;36m2\u001b[0m\u001b[1;33m]\u001b[0m\u001b[1;33m,\u001b[0m\u001b[0mfx\u001b[0m\u001b[1;33m[\u001b[0m\u001b[1;36m3\u001b[0m\u001b[1;33m]\u001b[0m\u001b[1;33m,\u001b[0m\u001b[0mh\u001b[0m\u001b[1;33m)\u001b[0m\u001b[1;33m\u001b[0m\u001b[1;33m\u001b[0m\u001b[0m\n\u001b[0m\u001b[0;32m     14\u001b[0m         \u001b[1;32melif\u001b[0m \u001b[0mi\u001b[0m \u001b[1;33m==\u001b[0m \u001b[0mn\u001b[0m \u001b[1;33m-\u001b[0m \u001b[1;36m1\u001b[0m\u001b[1;33m:\u001b[0m\u001b[1;33m\u001b[0m\u001b[1;33m\u001b[0m\u001b[0m\n\u001b[0;32m     15\u001b[0m             \u001b[0mderiv\u001b[0m\u001b[1;33m[\u001b[0m\u001b[0mi\u001b[0m\u001b[1;33m]\u001b[0m \u001b[1;33m=\u001b[0m \u001b[0mderiv5_borde_datos\u001b[0m\u001b[1;33m(\u001b[0m\u001b[0mfx\u001b[0m\u001b[1;33m[\u001b[0m\u001b[0mn\u001b[0m\u001b[1;33m-\u001b[0m\u001b[1;36m1\u001b[0m\u001b[1;33m]\u001b[0m\u001b[1;33m,\u001b[0m \u001b[0mfx\u001b[0m\u001b[1;33m[\u001b[0m\u001b[0mn\u001b[0m\u001b[1;33m-\u001b[0m\u001b[1;36m2\u001b[0m\u001b[1;33m]\u001b[0m\u001b[1;33m,\u001b[0m \u001b[0mfx\u001b[0m\u001b[1;33m[\u001b[0m\u001b[0mn\u001b[0m\u001b[1;33m-\u001b[0m\u001b[1;36m3\u001b[0m\u001b[1;33m]\u001b[0m\u001b[1;33m,\u001b[0m\u001b[0mfx\u001b[0m\u001b[1;33m[\u001b[0m\u001b[0mn\u001b[0m\u001b[1;33m-\u001b[0m\u001b[1;36m4\u001b[0m\u001b[1;33m]\u001b[0m\u001b[1;33m,\u001b[0m\u001b[1;33m-\u001b[0m\u001b[0mh\u001b[0m\u001b[1;33m)\u001b[0m\u001b[1;33m\u001b[0m\u001b[1;33m\u001b[0m\u001b[0m\n",
      "\u001b[1;31mTypeError\u001b[0m: deriv5_borde_datos() missing 1 required positional argument: 'h'"
     ]
    }
   ],
   "source": [
    "deriv_datos5(Datos_p,h)"
   ]
  },
  {
   "cell_type": "code",
   "execution_count": 25,
   "id": "919680eb-f2f7-45ad-9464-4053cc54bdab",
   "metadata": {},
   "outputs": [],
   "source": [
    "Derivada3p=(deriv3_borde_datos(Datos_p[0],Datos_p[12],Datos_p[23],h))"
   ]
  },
  {
   "cell_type": "code",
   "execution_count": null,
   "id": "64cf2ae3-fdf5-4b67-b6fb-f3ee205a73cf",
   "metadata": {},
   "outputs": [],
   "source": []
  },
  {
   "cell_type": "code",
   "execution_count": null,
   "id": "df35727b-8e38-4879-937d-65c885056618",
   "metadata": {},
   "outputs": [],
   "source": []
  }
 ],
 "metadata": {
  "kernelspec": {
   "display_name": "Python 3",
   "language": "python",
   "name": "python3"
  },
  "language_info": {
   "codemirror_mode": {
    "name": "ipython",
    "version": 3
   },
   "file_extension": ".py",
   "mimetype": "text/x-python",
   "name": "python",
   "nbconvert_exporter": "python",
   "pygments_lexer": "ipython3",
   "version": "3.8.8"
  }
 },
 "nbformat": 4,
 "nbformat_minor": 5
}
