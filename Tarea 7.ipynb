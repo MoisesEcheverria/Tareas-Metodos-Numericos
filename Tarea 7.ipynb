{
 "cells": [
  {
   "cell_type": "markdown",
   "id": "559546de-defd-4a44-a076-54eb87210915",
   "metadata": {},
   "source": [
    "# Tarea 7.3 #\n",
    " ### Moisés Echeverría ###\n",
    " #### FIS1344 - Métodos númericos y probabilidades ####"
   ]
  },
  {
   "cell_type": "markdown",
   "id": "95a3b555-e27d-4947-9f21-65c12a0fe2ca",
   "metadata": {},
   "source": [
    "Ejercicio 2.1.15 del libro de Burden.\n",
    "\n",
    "Un abrevadero (contenedor de agua para dar de beber a los animales) es mitad de un cilindro. Tiene una sección transversal a forma de semi-círculo de radio r=48.934 cm y una longitud L=1.3245 m. Si el volumen del agua contenido es de 10.013 litros, encuentre la profundidad del agua en metros con una precisión de cinco cifras decimales. (Para lograrlo, primero use algunas iteraciones del método de bisección y así obtener un par de puntos iniciales para el método de Newton.)."
   ]
  },
  {
   "cell_type": "code",
   "execution_count": 1,
   "id": "1762147f-beb2-4cb5-9fee-93fbc5b60ea7",
   "metadata": {},
   "outputs": [],
   "source": [
    "import numpy as np\n",
    "import matplotlib.pyplot as plt"
   ]
  },
  {
   "cell_type": "markdown",
   "id": "92d021f7-0d8c-4342-a244-9549b6dce712",
   "metadata": {},
   "source": [
    "Definimos la función del metodo de bisección que obtuvimos en clases"
   ]
  },
  {
   "cell_type": "code",
   "execution_count": 2,
   "id": "111a4e4e-8363-4e3c-ab18-4daff33b915a",
   "metadata": {},
   "outputs": [],
   "source": [
    "def biseccion(f, a, b, epsilon, N=1000000):\n",
    "    \n",
    "    for i in range(N):\n",
    "        p = a + (b - a)/2\n",
    "        print(p)\n",
    "        if abs(f(p)) < epsilon:\n",
    "            print(\"Cero en\", p, \"encontrado después de\", i, \"iteraciones.\")\n",
    "            return p\n",
    "        elif f(p)*f(a) > 0:\n",
    "            a = p\n",
    "        else:\n",
    "            b = p\n",
    "    print(\"No se encontró el cero después de\", N, \"iteraciones.\")"
   ]
  },
  {
   "cell_type": "markdown",
   "id": "0c146d14-ec42-4db7-b5d3-ad4ddb38240a",
   "metadata": {},
   "source": [
    "Definimos el metodo de Newton que obtuvimos en clases"
   ]
  },
  {
   "cell_type": "code",
   "execution_count": 3,
   "id": "d5500526-8984-4f77-9869-e157ecbe2c39",
   "metadata": {},
   "outputs": [],
   "source": [
    "def newton(f, df, po, epsilon, N=1000000):\n",
    "    \n",
    "    for i in range(N):\n",
    "        p = po - f(po)/df(po)\n",
    "        if abs(p - po)/abs(p) < epsilon:\n",
    "            return p, i+1\n",
    "        po = p\n",
    "    \n",
    "    raise MaxIterations(\"No se encontró el cero luego de\", N, \"iteraciones.\")"
   ]
  },
  {
   "cell_type": "code",
   "execution_count": 4,
   "id": "17c71ee7-ecc4-4540-8d87-c0ed7eaf4f14",
   "metadata": {},
   "outputs": [],
   "source": [
    "def V_Semicilindro(r):    #volumen del semicilindro \n",
    "    return ((np.pi*(r**2)*1.3245)/2)"
   ]
  },
  {
   "cell_type": "code",
   "execution_count": 5,
   "id": "595fb7b7-8003-4960-949a-4b9607a8f69c",
   "metadata": {},
   "outputs": [],
   "source": [
    "def V_Semicilindromenosagua(r):    #volumen del semicilindro menos el agua\n",
    "    return ((np.pi*(r**2)*1.3245)/2)-0.010013"
   ]
  },
  {
   "cell_type": "code",
   "execution_count": 8,
   "id": "6d23c8b8-53b8-4a5d-9903-b8003f0191eb",
   "metadata": {},
   "outputs": [
    {
     "name": "stdout",
     "output_type": "stream",
     "text": [
      "0.4981880144449478\n"
     ]
    }
   ],
   "source": [
    "r=0.48934 #radio del cilindro en metros\n",
    "l=1.3245  #largo del cilindro en metros\n",
    "v=10.013*0.001 #volumen del agua en metros cúbicos \n",
    "print(V_Semicilindro(0.48934))"
   ]
  },
  {
   "cell_type": "code",
   "execution_count": 9,
   "id": "8367f24b-a9e0-40d5-b3ed-48bb1fef5959",
   "metadata": {},
   "outputs": [
    {
     "name": "stdout",
     "output_type": "stream",
     "text": [
      "0.4881750144449478\n"
     ]
    }
   ],
   "source": [
    "print(V_Semicilindromenosagua(0.48934))"
   ]
  },
  {
   "cell_type": "markdown",
   "id": "108e3787-7fc1-4fa6-8bc8-f88dff547518",
   "metadata": {},
   "source": [
    "Teniendo en cuenta el semicilindro podemos dividir este en cuatro y calcular la mitad del área sin\n",
    "agua usando la geometría de un triángulo rectángulo y la geometría de un arco de la circunferencia y luego\n",
    "la multiplicamos por 2 para obtener toda el área del semicilindro que no tiene agua, con esta área podemos \n",
    "hacer la diferencia entre el área sin agua y el área total, para obtener el área con agua y calcular el volumen, \n",
    "este calculo queda en función de la altura(h) que podemos obtener usando los métodos de bisección y de Newton.\n"
   ]
  },
  {
   "cell_type": "code",
   "execution_count": 20,
   "id": "22a44d0d-4f0f-40ad-a770-c170c482e07c",
   "metadata": {},
   "outputs": [],
   "source": [
    "def Altura_del_agua(h): # función del volumen con respecto a la altura\n",
    "    return (((np.pi*0.48934**2)/2)-(0.48934*(0.48934-h)*np.sin(np.arccos((0.48934-h)/0.48934))\\\n",
    "                        +(0.48934**2)*((np.pi/2)-np.arccos((0.48934-h)/0.48934))))*1.3245-0.010013 "
   ]
  },
  {
   "cell_type": "code",
   "execution_count": 21,
   "id": "9e2b31d0-c0c9-4f6e-aa72-0286fb3fe6a9",
   "metadata": {},
   "outputs": [
    {
     "data": {
      "text/plain": [
       "[<matplotlib.lines.Line2D at 0x2b787124970>]"
      ]
     },
     "execution_count": 21,
     "metadata": {},
     "output_type": "execute_result"
    },
    {
     "data": {
      "image/png": "[encoded data removed]",
      "text/plain": [
       "<Figure size 432x288 with 1 Axes>"
      ]
     },
     "metadata": {
      "needs_background": "light"
     },
     "output_type": "display_data"
    }
   ],
   "source": [
    "x=np.linspace(0,0.1,100) #graficamos para poder guiarnos donde se encuentra el 0\n",
    "plt.plot(x,Altura_del_agua(x)) #podemos ver que se encuentre entre 0.02 y 0.04"
   ]
  },
  {
   "cell_type": "markdown",
   "id": "d335d482-4b51-4db4-9ec9-fb7c1b47efe7",
   "metadata": {},
   "source": [
    "Ahora tomamos la funcion anterior y la derivamos para poder hacer el metodo de Newton"
   ]
  },
  {
   "cell_type": "code",
   "execution_count": 12,
   "id": "a347bc52-f0ae-4e50-b11d-a30379b3ebeb",
   "metadata": {},
   "outputs": [],
   "source": [
    "def Derivada_del_agua(h):\n",
    "    return (((2.04356*(h**2))-(2*h)-0.15879083)/(np.sqrt(-4.17617*(h**2)+4.08713*h)))\\\n",
    "                                            -0.48934*np.sqrt(-4.17617*(h**2)+4.08713*h)"
   ]
  },
  {
   "cell_type": "code",
   "execution_count": 29,
   "id": "67f7dcb7-44d1-40f7-97d9-35b02e46c754",
   "metadata": {},
   "outputs": [
    {
     "name": "stdout",
     "output_type": "stream",
     "text": [
      "0.03\n",
      "0.035\n",
      "0.0325\n",
      "0.03125\n",
      "0.031875\n",
      "0.0321875\n",
      "0.032343750000000004\n",
      "0.032265625000000006\n",
      "0.0322265625\n",
      "0.03224609375\n",
      "0.032236328125000005\n",
      "0.0322412109375\n",
      "0.03223876953125\n",
      "0.032239990234375\n",
      "Cero en 0.032239990234375 encontrado después de 13 iteraciones.\n"
     ]
    },
    {
     "data": {
      "text/plain": [
       "0.032239990234375"
      ]
     },
     "execution_count": 29,
     "metadata": {},
     "output_type": "execute_result"
    }
   ],
   "source": [
    "biseccion(Altura_del_agua,0.02,0.04,0.0000001) #usamos la biseccion con los valores de la grafica"
   ]
  },
  {
   "cell_type": "code",
   "execution_count": 30,
   "id": "b4fbd9a0-b307-40b2-be6f-eb78af6b1e91",
   "metadata": {},
   "outputs": [
    {
     "data": {
      "text/plain": [
       "(0.032239990514550315, 1)"
      ]
     },
     "execution_count": 30,
     "metadata": {},
     "output_type": "execute_result"
    }
   ],
   "source": [
    "newton(Altura_del_agua,Derivada_del_agua,0.032239990234375,0.00001)\n",
    "#usamos newton con el valor que nos dio la bisección"
   ]
  },
  {
   "cell_type": "code",
   "execution_count": 39,
   "id": "591c4e14-0d0e-4f65-b57a-9c93089e606c",
   "metadata": {},
   "outputs": [
    {
     "data": {
      "text/plain": [
       "2.2251219096436348e-10"
      ]
     },
     "execution_count": 39,
     "metadata": {},
     "output_type": "execute_result"
    }
   ],
   "source": [
    "Altura_del_agua(0.032239990234375)\n",
    "#podemos ver que el valor es muy cercano a 0 al evaluarlo en la función"
   ]
  },
  {
   "cell_type": "markdown",
   "id": "271eff96-f5d8-489d-ba91-93eab13fc552",
   "metadata": {},
   "source": [
    "El valor de la altura del agua es 0.032239"
   ]
  },
  {
   "cell_type": "markdown",
   "id": "0829f5de",
   "metadata": {},
   "source": [
    "# Calificación: 6.0"
   ]
  },
  {
   "cell_type": "markdown",
   "id": "02da2328",
   "metadata": {},
   "source": [
    "La verdadera expresión para el volumen del agua es:\n",
    "\n",
    "$$\n",
    "V = L\\left(\\cos^{-1}\\left(\\frac{(r - p)}{r}\\right) r^2 - \\frac{1}{2}(r - p)\\sqrt{r^2 + (r - p)^2}\\right)\n",
    "$$"
   ]
  },
  {
   "cell_type": "markdown",
   "id": "1bbcd251",
   "metadata": {},
   "source": []
  }
 ],
 "metadata": {
  "kernelspec": {
   "display_name": "Python 3",
   "language": "python",
   "name": "python3"
  },
  "language_info": {
   "codemirror_mode": {
    "name": "ipython",
    "version": 3
   },
   "file_extension": ".py",
   "mimetype": "text/x-python",
   "name": "python",
   "nbconvert_exporter": "python",
   "pygments_lexer": "ipython3",
   "version": "3.10.6 (main, Nov  2 2022, 18:53:38) [GCC 11.3.0]"
  },
  "vscode": {
   "interpreter": {
    "hash": "916dbcbb3f70747c44a77c7bcd40155683ae19c65e1c03b4aa3499c5328201f1"
   }
  }
 },
 "nbformat": 4,
 "nbformat_minor": 5
}
