{
 "cells": [
  {
   "cell_type": "markdown",
   "id": "6bab4318-0b99-41f2-8f76-059ca49460d7",
   "metadata": {},
   "source": [
    " # Tarea 10.9 #\n",
    " ### Moisés Echeverría ###\n",
    " #### FIS1344 - Métodos númericos y probabilidades ####"
   ]
  },
  {
   "cell_type": "markdown",
   "id": "37c99934-a9d4-4738-81a2-9c158568cdd0",
   "metadata": {},
   "source": [
    "Ejercicio 5.3.12 libro de Burden\n",
    "\n",
    "Un proyectil con masa $m = 0.11$ kg se dispara verticalmente hacia arriba con una velocidad inicial $v(0) = 8$ m/s y sufre una desaceleración debida a la fuerza de la gravedad $F = -mg$ y a la resistencia del aire $F = -kv|v|$, donde $g = 9.8$ m/s^2 y $k = 0.002$ kg/m.\n",
    "\n",
    "\n",
    "$\\bullet$ Encuentre la velocidad a $t = 0.1, 0.2, ..., 1.0$ segundos.\n",
    "\n",
    "$\\bullet$ Encuentre a la primera cifra decimal el tiempo al cual el proyectil alcanza su máxima altura y vuelve a empezar a caer."
   ]
  },
  {
   "cell_type": "code",
   "execution_count": 10,
   "id": "860268a7-1442-4771-8473-da9b371ad741",
   "metadata": {},
   "outputs": [],
   "source": [
    "import numpy as np                   #importamos lo que utilizaremos\n",
    "import matplotlib.pyplot as plt"
   ]
  },
  {
   "cell_type": "code",
   "execution_count": 3,
   "id": "b11c4167-1ac7-42fa-9e66-4239959164fe",
   "metadata": {},
   "outputs": [],
   "source": [
    "def euler(f, a, b, vo, N):\n",
    "    \n",
    "    h = (b-a)/N\n",
    "    t = a\n",
    "    w = vo\n",
    "    ts = np.zeros(N+1)\n",
    "    sol = np.zeros(N+1)\n",
    "    \n",
    "    for i in range(N):\n",
    "        ts[i] = t\n",
    "        sol[i] = w\n",
    "        w = w + h*f(t, w)\n",
    "        t = t + h\n",
    "        \n",
    "    ts[N] = t\n",
    "    sol[N] = w\n",
    "    \n",
    "    return ts, sol"
   ]
  },
  {
   "cell_type": "markdown",
   "id": "45fecaab-6d07-4fcb-9dca-77d584d611d4",
   "metadata": {},
   "source": [
    "La funcion queda:\n",
    "$$\n",
    "v'(t)m=-mg-kv|v| \n",
    "$$\n",
    "y simplificando\n",
    "$$\n",
    "v'(t)=-g-\\frac{kv|v|}{m} \n",
    "$$"
   ]
  },
  {
   "cell_type": "code",
   "execution_count": 23,
   "id": "aec738ed-619c-4cda-91fc-0b7d6a1499a2",
   "metadata": {},
   "outputs": [],
   "source": [
    "def Tiro_vertical(t,v): \n",
    "    '''\n",
    "    Esta función describe el movimiento vertical de la masa entregada en el ejercicio\n",
    "    '''\n",
    "    g=9.8\n",
    "    k=0.002\n",
    "    m=0.11\n",
    "    return -g-(k*v*np.abs(v))/m"
   ]
  },
  {
   "cell_type": "code",
   "execution_count": 13,
   "id": "e8b4bd30-c5d9-47b5-b7ce-b424dca1bb65",
   "metadata": {},
   "outputs": [],
   "source": [
    "Tiro=euler(Tiro_vertical,0,1,8,10) #tomamos los tiempos que nos pide el ejercicio"
   ]
  },
  {
   "cell_type": "code",
   "execution_count": 14,
   "id": "c4eea9d5-99f7-4509-a8af-2da4cac3559b",
   "metadata": {},
   "outputs": [
    {
     "data": {
      "text/plain": [
       "(array([0. , 0.1, 0.2, 0.3, 0.4, 0.5, 0.6, 0.7, 0.8, 0.9, 1. ]),\n",
       " array([ 8.        ,  6.90363636,  5.83698146,  4.79503537,  3.77323107,\n",
       "         2.76734512,  1.77342112,  0.7877029 , -0.19342524, -1.17335722,\n",
       "        -2.150854  ]))"
      ]
     },
     "execution_count": 14,
     "metadata": {},
     "output_type": "execute_result"
    }
   ],
   "source": [
    "Tiro  #vemos los valores del tiempo y de la velocidad que nos entrego el metodo de euler"
   ]
  },
  {
   "cell_type": "markdown",
   "id": "3e8457dd-e8b1-4c75-85cb-baf155635c15",
   "metadata": {},
   "source": [
    "Si nos fijamos en los valores, podemos visualizar que el tiempo en el que el proyectil está a máxima altura es cuando su velocidad es 0, viendo los datos podemos ver que esta entre 0.7 y 0.8 segundos y en el segundo 0.8 la velocidad se vuelve negativa por lo que empieza a caer."
   ]
  },
  {
   "cell_type": "code",
   "execution_count": 30,
   "id": "5d2b0dd8-d83c-455c-9c62-7acd123fa133",
   "metadata": {},
   "outputs": [
    {
     "data": {
      "image/png": "[encoded data removed]",
      "text/plain": [
       "<Figure size 432x288 with 1 Axes>"
      ]
     },
     "metadata": {
      "needs_background": "light"
     },
     "output_type": "display_data"
    }
   ],
   "source": [
    "plt.plot(Tiro[0],Tiro[1],color='red')\n",
    "plt.title('Velocidad vs Tiempo')\n",
    "plt.xlabel('Tiempo(s)')\n",
    "plt.ylabel('Velocidad(m/s)')\n",
    "plt.show()"
   ]
  },
  {
   "cell_type": "markdown",
   "id": "c8a84b48",
   "metadata": {},
   "source": [
    "# Calificación: 7.0"
   ]
  },
  {
   "cell_type": "markdown",
   "id": "d8b8d45d",
   "metadata": {},
   "source": []
  }
 ],
 "metadata": {
  "kernelspec": {
   "display_name": "Python 3",
   "language": "python",
   "name": "python3"
  },
  "language_info": {
   "codemirror_mode": {
    "name": "ipython",
    "version": 3
   },
   "file_extension": ".py",
   "mimetype": "text/x-python",
   "name": "python",
   "nbconvert_exporter": "python",
   "pygments_lexer": "ipython3",
   "version": "3.8.8"
  }
 },
 "nbformat": 4,
 "nbformat_minor": 5
}
